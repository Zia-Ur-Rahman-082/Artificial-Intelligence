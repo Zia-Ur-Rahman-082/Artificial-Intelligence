{
 "cells": [
  {
   "cell_type": "code",
   "execution_count": null,
   "id": "bf9735e7",
   "metadata": {},
   "outputs": [],
   "source": []
  },
  {
   "cell_type": "code",
   "execution_count": 1,
   "id": "eaf49da6",
   "metadata": {},
   "outputs": [
    {
     "name": "stdout",
     "output_type": "stream",
     "text": [
      "Blank List\n",
      "[]\n"
     ]
    }
   ],
   "source": [
    "#Blank List\n",
    "List = []\n",
    "print(\"Blank List\")\n",
    "print(List)"
   ]
  },
  {
   "cell_type": "code",
   "execution_count": 2,
   "id": "9e89e86d",
   "metadata": {},
   "outputs": [
    {
     "name": "stdout",
     "output_type": "stream",
     "text": [
      "List of numbers\n",
      "[20, 10, 30]\n"
     ]
    }
   ],
   "source": [
    "#List of Numbers\n",
    "List  =[20 , 10 ,30]\n",
    "print(\"List of numbers\")\n",
    "print(List)"
   ]
  },
  {
   "cell_type": "code",
   "execution_count": 3,
   "id": "63d6d42e",
   "metadata": {},
   "outputs": [
    {
     "name": "stdout",
     "output_type": "stream",
     "text": [
      "Multidimensional List of strings is\n",
      "[['zia', 'Salman'], ['Saif']]\n"
     ]
    }
   ],
   "source": [
    "#List of strings\n",
    "List = [['zia' , 'Salman'] , ['Saif']]\n",
    "print(\"Multidimensional List of strings is\")\n",
    "print(List)"
   ]
  },
  {
   "cell_type": "code",
   "execution_count": 4,
   "id": "51d8b971",
   "metadata": {},
   "outputs": [
    {
     "name": "stdout",
     "output_type": "stream",
     "text": [
      "[1, 5, 6, 1, 5, 4, 6]\n"
     ]
    }
   ],
   "source": [
    "#Creating a list with multiple distinct or duplicate elements\n",
    "List = [1,5,6,1,5,4,6]\n",
    "print(List)"
   ]
  },
  {
   "cell_type": "code",
   "execution_count": 5,
   "id": "ca87b31d",
   "metadata": {},
   "outputs": [
    {
     "name": "stdout",
     "output_type": "stream",
     "text": [
      "\n",
      "List with the use of Mixed Values: \n",
      "[1, 2, 'Salman', 4, 'Saif', 6, 'Zia']\n"
     ]
    }
   ],
   "source": [
    "# Creating a List with  mixed type of values\n",
    "List = [1, 2, 'Salman', 4, 'Saif', 6, 'Zia']\n",
    "print(\"\\nList with the use of Mixed Values: \")\n",
    "print(List)"
   ]
  },
  {
   "cell_type": "code",
   "execution_count": 6,
   "id": "ed9a71b1",
   "metadata": {},
   "outputs": [
    {
     "name": "stdout",
     "output_type": "stream",
     "text": [
      "Length is:  0\n",
      "Length is:  5\n"
     ]
    }
   ],
   "source": [
    "#Knowing the size of the List\n",
    "List = []\n",
    "print(\"Length is: \", len(List))\n",
    "\n",
    "List = [1,2,3,5,5]\n",
    "print(\"Length is: \", len(List))"
   ]
  },
  {
   "cell_type": "code",
   "execution_count": 7,
   "id": "a2b2fd76",
   "metadata": {},
   "outputs": [
    {
     "name": "stdout",
     "output_type": "stream",
     "text": [
      "Initial List is: \n",
      "[]\n",
      "\n",
      "List after Addition is: \n",
      "[1, 2, 4]\n",
      "\n",
      "List after Addition of elements: \n",
      "[1, 2, 4, 1]\n",
      "\n",
      "List after Addition of elements: \n",
      "[1, 2, 4, 1, 2]\n",
      "\n",
      "List after Addition of elements: \n",
      "[1, 2, 4, 1, 2, 3]\n",
      "\n",
      "List after Addition of a Tuple: \n",
      "[1, 2, 4, 1, 2, 3, (5, 6)]\n",
      "\n",
      "List after Addition of a List: \n",
      "[1, 2, 4, 1, 2, 3, (5, 6), ['For', 'Geeks']]\n"
     ]
    }
   ],
   "source": [
    "#List Addition\n",
    "#Creating a List\n",
    "List = []\n",
    "print(\"Initial List is: \")\n",
    "print(List)\n",
    "\n",
    "# Addition of Elements in the List \n",
    "List.append(1)\n",
    "List.append(2)\n",
    "List.append(4)\n",
    "print(\"\\nList after Addition is: \")\n",
    "print(List)\n",
    "#Adding multiple elemnts to the List using Loop\n",
    "for i in range(1, 4):\n",
    "    List.append(i) \n",
    "    print(\"\\nList after Addition of elements: \")\n",
    "    print(List)\n",
    "# Adding Tuples to the List\n",
    "List.append((5, 6))\n",
    "print(\"\\nList after Addition of a Tuple: \")\n",
    "print(List)\n",
    "\n",
    "# Addition of List to a List\n",
    "List2 = ['For', 'Geeks']\n",
    "List.append(List2)\n",
    "print(\"\\nList after Addition of a List: \")\n",
    "print(List)"
   ]
  },
  {
   "cell_type": "code",
   "execution_count": 8,
   "id": "4fe8f4d2",
   "metadata": {},
   "outputs": [
    {
     "name": "stdout",
     "output_type": "stream",
     "text": [
      "Initial List: \n",
      "[1, 2, 3, 4]\n",
      "['Lab2', 1, 12, 2, 3, 4]\n"
     ]
    }
   ],
   "source": [
    "#Addition of elements in a List \n",
    "#Creating a List\n",
    "List = [1,2,3,4]\n",
    "print(\"Initial List: \")\n",
    "print(List)\n",
    "# Addition of Element at specific Position\n",
    "List.insert(0, 'Lab2')\n",
    "List.insert(2, 12)\n",
    "\n",
    "print(List)"
   ]
  },
  {
   "cell_type": "code",
   "execution_count": 9,
   "id": "ba7b3bbb",
   "metadata": {},
   "outputs": [
    {
     "name": "stdout",
     "output_type": "stream",
     "text": [
      "Initial List: \n",
      "[1, 2, 3, 4]\n",
      "\n",
      "List after Extend method: \n",
      "[1, 2, 3, 4, 8, 'Lab1', 'Lab2']\n"
     ]
    }
   ],
   "source": [
    "# Addition of elements in a List\n",
    "# Creating a List\n",
    "List = [1, 2, 3, 4]\n",
    "print(\"Initial List: \")\n",
    "print(List)\n",
    "# Addition of multiple elements to the List at the end using Extend Method\n",
    "List.extend([8, 'Lab1', 'Lab2'])\n",
    "print(\"\\nList after Extend method: \")\n",
    "print(List)"
   ]
  },
  {
   "cell_type": "code",
   "execution_count": 10,
   "id": "0f75a379",
   "metadata": {},
   "outputs": [
    {
     "name": "stdout",
     "output_type": "stream",
     "text": [
      "Enter the elements of first List: \n",
      "Enter the value1\n",
      "Enter the value5\n",
      "Enter the value5\n",
      "Enter the value4\n",
      "Enter the value4\n",
      "Enter the elements of 2nd List\n",
      "Enter the value: 45\n",
      "Enter the value: 4\n",
      "Enter the value: 4\n",
      "Enter the value: 4\n",
      "Enter the value: 5\n",
      "[1, 5, 5, 4, 4, 45, 4, 4, 4, 5]\n"
     ]
    }
   ],
   "source": [
    "#Activity 1    Accept two lists from user and display their join.\n",
    "\n",
    "print(\"Enter the elements of first List: \")\n",
    "List1 = []\n",
    "for i in range(5):\n",
    "    n = int(input(\"Enter the value\"))\n",
    "    List1.append(n)\n",
    "    \n",
    "\n",
    "print(\"Enter the elements of 2nd List\")\n",
    "List2 = []\n",
    "for i in range(5):\n",
    "    n = int(input(\"Enter the value: \"))\n",
    "    List2.append(n)\n",
    "    \n",
    "List3 = List1 + List2\n",
    "print(List3)"
   ]
  },
  {
   "cell_type": "code",
   "execution_count": 11,
   "id": "3959bfbd",
   "metadata": {},
   "outputs": [
    {
     "name": "stdout",
     "output_type": "stream",
     "text": [
      "True\n"
     ]
    }
   ],
   "source": [
    "#Activity 2\n",
    "#Palindrome\n",
    "def isPalindrome(word):\n",
    "    temp  =word[::-1]\n",
    "    if temp.capitalize() == word.capitalize():\n",
    "        return True\n",
    "    else:\n",
    "        return False\n",
    "print(isPalindrome(\"Abcba\"))\n"
   ]
  },
  {
   "cell_type": "code",
   "execution_count": 12,
   "id": "23a38506",
   "metadata": {},
   "outputs": [
    {
     "name": "stdout",
     "output_type": "stream",
     "text": [
      "Product of Two Matrices is: \n",
      "[[3, 10, 4], [3, 9, 5], [5, 12, 6]]\n"
     ]
    }
   ],
   "source": [
    "#Activity 3\n",
    "# Program to find the Product of two 2D Lists\n",
    "list1 = [[1, 1, 0], [0, 1, 1], [0, 2, 1]]\n",
    "list2 = [[1, 2, 1], [7, 3, 6], [3, 1, 4]]\n",
    "Prod = []\n",
    "for rows in range(3):\n",
    "  Prod.append([])\n",
    "  for coloumns in range(3):\n",
    "    Prod[rows].append(0)\n",
    "    for result in range(3):\n",
    "      Prod[rows][coloumns] += list1[rows][result] * list2[coloumns][result]\n",
    "print(\"Product of Two Matrices is: \")\n",
    "print(Prod)"
   ]
  },
  {
   "cell_type": "code",
   "execution_count": 13,
   "id": "23a330df",
   "metadata": {},
   "outputs": [
    {
     "name": "stdout",
     "output_type": "stream",
     "text": [
      "Enter the values of Set1: 4\n",
      "Enter the values of Set1: 5\n",
      "Enter the values of Set1: 6\n",
      "Enter the values of Set1: 1\n",
      "Enter the values of Set1: 5\n",
      "Set1 Values are:: \n",
      "{'1', '4', '5', '6'}\n",
      "Enter the values of Set2: 45\n",
      "Enter the values of Set2: 5\n",
      "Enter the values of Set2: 5\n",
      "Enter the values of Set2: 45\n",
      "Enter the values of Set2: 45\n",
      "Set2 Values are: \n",
      "{'45', '5'}\n",
      "Result : \n",
      "{'45', '4', '1', '6'}\n"
     ]
    }
   ],
   "source": [
    "# ACtivity 4\n",
    "# Intersection Between Two Sets\n",
    "\n",
    "set1 = set()\n",
    "set2 = set()\n",
    "set3 = set()\n",
    "for i in range(5):\n",
    "  value = input(\"Enter the values of Set1: \")\n",
    "  set1.add(value) \n",
    "print(\"Set1 Values are:: \")\n",
    "print(set1)\n",
    "for j in range(5):\n",
    "  value = input(\"Enter the values of Set2: \")\n",
    "  set2.add(value)\n",
    "print(\"Set2 Values are: \")\n",
    "print(set2)\n",
    "for k in set1:\n",
    "  if k not in set2:\n",
    "    set3.add(k)\n",
    "for l in set2:\n",
    "  if l not in set1:\n",
    "    set3.add(l)\n",
    "print(\"Result : \")\n",
    "print(set3)"
   ]
  },
  {
   "cell_type": "code",
   "execution_count": 5,
   "id": "eee324d1",
   "metadata": {},
   "outputs": [
    {
     "name": "stdout",
     "output_type": "stream",
     "text": [
      "Expression : x**3*y**3 + x**2*y**2 + 2*x*y \n",
      "Derivative of expression with respect to x : Derivative(x**3*y**3 + x**2*y**2 + 2*x*y, x, y)\n",
      "Value of the derivative : 9*x**2*y**2 + 4*x*y + 2 \n"
     ]
    }
   ],
   "source": [
    "# import sympy \n",
    "#Derivative\n",
    "from sympy import * \n",
    "  \n",
    "x, y = symbols('x y')\n",
    "expr = y**2 * x**2 + 2 * y*x + x**3 * y**3\n",
    "print(\"Expression : {} \".format(expr))\n",
    "   \n",
    "# Use sympy.Derivative() method \n",
    "expr_diff = Derivative(expr, x, y)  \n",
    "      \n",
    "print(\"Derivative of expression with respect to x : {}\".format(expr_diff))  \n",
    "print(\"Value of the derivative : {} \".format(expr_diff.doit()))"
   ]
  },
  {
   "cell_type": "code",
   "execution_count": 15,
   "id": "e98e2f5c",
   "metadata": {},
   "outputs": [
    {
     "name": "stdout",
     "output_type": "stream",
     "text": [
      "-sin(x)\n",
      "cos(x)\n"
     ]
    }
   ],
   "source": [
    "#Trignometric functions\n",
    "import sympy as sym\n",
    "from IPython.display import display, Math\n",
    "x = sym.symbols('x')\n",
    "print(sym.diff(sym.cos(x)))\n",
    "print(sym.diff(sym.sin(x)))"
   ]
  },
  {
   "cell_type": "code",
   "execution_count": null,
   "id": "ae8cd2c6",
   "metadata": {},
   "outputs": [],
   "source": []
  },
  {
   "cell_type": "code",
   "execution_count": 1,
   "id": "3fe08c1f",
   "metadata": {},
   "outputs": [
    {
     "name": "stdout",
     "output_type": "stream",
     "text": [
      "Enter the FirstName: Zia-Ur\n",
      "Enter the LastName: Rahman\n",
      "0316981858\n"
     ]
    }
   ],
   "source": [
    "#Activity 6\n",
    "sample = {(\"Zia-Ur\", \"Rahman\"):\"0316981858\", (\"Addas\",\"Munzir\"):\"03145718780\"}\n",
    "firstname = input(\"Enter the FirstName: \")\n",
    "lastname = input(\"Enter the LastName: \")\n",
    "searchTuple = (firstname, lastname)\n",
    "if searchTuple in sample:\n",
    "    print(sample[searchTuple])\n",
    "else:\n",
    "    print(\"name not Found! \")"
   ]
  },
  {
   "cell_type": "code",
   "execution_count": 17,
   "id": "d3b4d976",
   "metadata": {},
   "outputs": [
    {
     "name": "stdout",
     "output_type": "stream",
     "text": [
      "[-3.141592653589793, 3.141592653589793, -3.1405926535897932, 3.142592653589793, -3.1395926535897933, 3.143592653589793]\n"
     ]
    }
   ],
   "source": [
    "#Task 3\n",
    "import math\n",
    "h = 0.001\n",
    "x = []\n",
    "Pi = math.pi\n",
    "NegPi = -(Pi)\n",
    "x.append(NegPi)\n",
    "x.append(Pi)\n",
    "for i in range(len(x)):\n",
    "    NegPi += 0.001\n",
    "    Pi += 0.001\n",
    "    x.append(NegPi)\n",
    "    x.append(Pi)\n",
    "print(x)"
   ]
  },
  {
   "cell_type": "code",
   "execution_count": 3,
   "id": "ec6aade6",
   "metadata": {},
   "outputs": [
    {
     "name": "stdout",
     "output_type": "stream",
     "text": [
      "Enter the numbers: 5\n",
      "Enter the numbers: 3\n",
      "Enter the numbers: 2\n",
      "Enter the numbers: 41\n",
      "Enter the numbers: 5\n",
      "Elements in list1 are:: \n",
      "[5, 3, 2, 41, 5]\n",
      "Enter the numbers in list2: 5\n",
      "Enter the numbers in list2: 5\n",
      "Enter the numbers in list2: 4\n",
      "Enter the numbers in list2: 45\n",
      "Enter the numbers in list2: 6\n",
      "Elements in list2 are:: \n",
      "[5, 5, 4, 45, 6]\n",
      "Sorted List is: \n",
      "[2, 3, 4, 5, 5, 5, 5, 6, 41, 45]\n"
     ]
    }
   ],
   "source": [
    "#Lab Task 1:\n",
    "#Create two lists based on the user values. Merge both the lists and display in sorted order.\n",
    "list1 = []\n",
    "list2 = []\n",
    "list3 = []\n",
    "for i in range(5):\n",
    "    list1.append(int(input(\"Enter the numbers: \")))\n",
    "print(\"Elements in list1 are:: \")\n",
    "print(list1)\n",
    "for j in range(5):\n",
    "    list2.append(int(input(\"Enter the numbers in list2: \")))\n",
    "print(\"Elements in list2 are:: \")\n",
    "print(list2)\n",
    "list3 = list1 + list2\n",
    "print(\"Sorted List is: \")\n",
    "print(sorted(list3))"
   ]
  },
  {
   "cell_type": "code",
   "execution_count": 4,
   "id": "3fef63e9",
   "metadata": {},
   "outputs": [
    {
     "name": "stdout",
     "output_type": "stream",
     "text": [
      "BirthDays' record: \n",
      "Umar\n",
      "Addas\n",
      "Salman\n",
      "Enter the name: Addas\n",
      "15 Mar,2001\n"
     ]
    }
   ],
   "source": [
    "# Lab Task 4\n",
    "# Finding birthdays using dictonary\n",
    "birthDays = {'Umar':'23 Nov,2003', 'Addas':'15 Mar,2001', 'Salman':'30 Sep,2001'}\n",
    "print(\"BirthDays' record: \")\n",
    "for n in birthDays:\n",
    "  print(n)\n",
    "found = input(\"Enter the name: \")\n",
    "if found in birthDays:\n",
    "    print(birthDays[found])\n",
    "else:\n",
    "    print(\"Not Found!!!\")\n",
    "\n"
   ]
  },
  {
   "cell_type": "code",
   "execution_count": null,
   "id": "fcdff41d",
   "metadata": {},
   "outputs": [],
   "source": []
  },
  {
   "cell_type": "code",
   "execution_count": null,
   "id": "a7e25b4f",
   "metadata": {},
   "outputs": [],
   "source": []
  }
 ],
 "metadata": {
  "kernelspec": {
   "display_name": "Python 3 (ipykernel)",
   "language": "python",
   "name": "python3"
  },
  "language_info": {
   "codemirror_mode": {
    "name": "ipython",
    "version": 3
   },
   "file_extension": ".py",
   "mimetype": "text/x-python",
   "name": "python",
   "nbconvert_exporter": "python",
   "pygments_lexer": "ipython3",
   "version": "3.9.12"
  }
 },
 "nbformat": 4,
 "nbformat_minor": 5
}
