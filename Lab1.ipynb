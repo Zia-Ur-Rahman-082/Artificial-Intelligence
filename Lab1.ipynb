{
 "cells": [
  {
   "cell_type": "code",
   "execution_count": 1,
   "id": "ba5cd024",
   "metadata": {},
   "outputs": [
    {
     "name": "stdout",
     "output_type": "stream",
     "text": [
      "Enter a Number4\n",
      "The Number is Even\n"
     ]
    }
   ],
   "source": [
    "#Activity 1\n",
    "\n",
    "n = int(input(\"Enter a Number\"))\n",
    "if (n%2==0):\n",
    "    print(\"The Number is Even\")\n",
    "else:\n",
    "    print(\"The Number is Odd\")"
   ]
  },
  {
   "cell_type": "code",
   "execution_count": 3,
   "id": "61911441",
   "metadata": {},
   "outputs": [
    {
     "name": "stdout",
     "output_type": "stream",
     "text": [
      "Enter an integer number1\n",
      "Enter an integer value6\n",
      "Enter an integer value5\n",
      "Enter an integer value3\n",
      "Enter an integer value0\n",
      "Sum of the values is 15\n"
     ]
    }
   ],
   "source": [
    "#Activity 2\n",
    "\n",
    "sum = 0\n",
    "n = int(input(\"Enter an integer number\"))\n",
    "while (n!=0):\n",
    "    sum = sum+n\n",
    "    n = int(input(\"Enter an integer value\"))\n",
    "print(\"Sum of the values is\" , sum)"
   ]
  },
  {
   "cell_type": "code",
   "execution_count": 13,
   "id": "7a634287",
   "metadata": {},
   "outputs": [
    {
     "name": "stdout",
     "output_type": "stream",
     "text": [
      "Enter a Number15\n",
      "Number is not prime\n"
     ]
    }
   ],
   "source": [
    "#Activity 3\n",
    "n = int(input(\"Enter a Number\"))\n",
    "c = 0\n",
    "for i in range (1,n+1):\n",
    "    if (n%i==0):\n",
    "        c+=1\n",
    "if (c>2):\n",
    "    print(\"Number is not prime\")\n",
    "else:\n",
    "    print(\"Number  is prime\")"
   ]
  },
  {
   "cell_type": "code",
   "execution_count": null,
   "id": "caccf053",
   "metadata": {},
   "outputs": [],
   "source": [
    "#Activity 4\n",
    "sum = 0\n",
    "\n",
    "for i in range (0 , 5):\n",
    "    n = int(input(\"Enter a number\"))\n",
    "    sum = sum+n\n",
    "print(\"Sum is: \" , sum)\n",
    "    "
   ]
  },
  {
   "cell_type": "code",
   "execution_count": 1,
   "id": "15c97fe6",
   "metadata": {},
   "outputs": [
    {
     "name": "stdout",
     "output_type": "stream",
     "text": [
      "Sum is:  55\n"
     ]
    }
   ],
   "source": [
    "# Activity 5\n",
    "sum = 0\n",
    "i = 1\n",
    "while (i<=10):\n",
    "    sum = sum + i\n",
    "    i=i+1\n",
    "print(\"Sum is: \" , sum)"
   ]
  },
  {
   "cell_type": "code",
   "execution_count": 2,
   "id": "fdaaa290",
   "metadata": {},
   "outputs": [
    {
     "name": "stdout",
     "output_type": "stream",
     "text": [
      "What is your name? Zia Ur Rahman\n",
      "Hello Zia Ur Rahman\n",
      "What is your job? Student\n",
      "Your job is Student\n",
      "Give me a number? 166\n",
      "You said: 166\n"
     ]
    }
   ],
   "source": [
    "#Activity 6\n",
    "name = input('What is your name? ')\n",
    "print('Hello ' + name)\n",
    "job = input('What is your job? ')\n",
    "print('Your job is ' + job)\n",
    "num = input('Give me a number? ')\n",
    "print('You said: ' + str(num))"
   ]
  },
  {
   "cell_type": "code",
   "execution_count": 1,
   "id": "7e14bb29",
   "metadata": {},
   "outputs": [
    {
     "name": "stdout",
     "output_type": "stream",
     "text": [
      "Enter a guess between 1 to 96\n",
      "Too low\n",
      "Enter a guess between 1 to 94\n",
      "Too low\n",
      "Enter a guess between 1 to 91\n",
      "Too low\n",
      "Enter a guess between 1 to 98\n",
      "Right!\n",
      "You took only 4 tries!\n"
     ]
    }
   ],
   "source": [
    "#Activity 7\n",
    "import random\n",
    "\n",
    "rd = random.randint(1,9)\n",
    "guess = 0\n",
    "c = 0\n",
    "while guess != rd and guess != \"exit\":\n",
    "    guess = input(\"Enter a guess between 1 to 9\")\n",
    "\n",
    "    if guess == \"exit\":\n",
    "        break\n",
    "\n",
    "    guess = int(guess)\n",
    "    c += 1\n",
    "\n",
    "    if guess < rd:\n",
    "        print(\"Too low\")\n",
    "    elif guess > rd:\n",
    "        print(\"Too high\")\n",
    "    else:\n",
    "        print(\"Right!\")\n",
    "        print(\"You took only\", c, \"tries!\")\n"
   ]
  },
  {
   "cell_type": "code",
   "execution_count": 6,
   "id": "a56afb26",
   "metadata": {},
   "outputs": [
    {
     "name": "stdout",
     "output_type": "stream",
     "text": [
      "Enter a number65894\n",
      "Numbers are:  65894\n",
      "Numbers in reverse order:  49856\n"
     ]
    }
   ],
   "source": [
    "#Task 1\n",
    "\n",
    "n = int(input(\"Enter a number\"))\n",
    "a=0\n",
    "print(\"Numbers are: \",n)\n",
    "result = \"\"\n",
    "while n!=0:\n",
    "    a = n%10\n",
    "    result =result + str(a) \n",
    "    n=int(n/10)\n",
    "\n",
    "print('Numbers in reverse order: ',result)"
   ]
  },
  {
   "cell_type": "code",
   "execution_count": 1,
   "id": "1a6408cc",
   "metadata": {},
   "outputs": [
    {
     "name": "stdout",
     "output_type": "stream",
     "text": [
      "Enter the Number of elements3\n",
      "Enter the number4\n",
      "Enter the number5\n",
      "Enter the number6\n",
      "Sum of odd numbers is:  5\n",
      "Sum of even numbers:  10\n"
     ]
    }
   ],
   "source": [
    "#Task 2\n",
    "\n",
    "n = int(input(\"Enter the Number of elements\"))\n",
    "\n",
    "odd = 0\n",
    "even = 0\n",
    "for i in range (0,n):\n",
    "    n = int(input(\"Enter the number\"))\n",
    "    if n%2==0:\n",
    "        even= even + n\n",
    "    else: \n",
    "        odd= odd + n\n",
    "        \n",
    "print(\"Sum of odd numbers: \",odd)\n",
    "print(\"Sum of even numbers: \" ,even)\n"
   ]
  },
  {
   "cell_type": "code",
   "execution_count": 7,
   "id": "5dd3fe9f",
   "metadata": {},
   "outputs": [
    {
     "name": "stdout",
     "output_type": "stream",
     "text": [
      "55\n"
     ]
    }
   ],
   "source": [
    "#Task 3\n",
    "\n",
    "def Fibonacci(n):\n",
    "\n",
    "    if n < 0:\n",
    "        print(\"Invalid input\")\n",
    "\n",
    "    elif n == 0:\n",
    "        return 0\n",
    "\n",
    "    elif n == 1 or n == 2:\n",
    "        return 1\n",
    " \n",
    "    else:\n",
    "        return Fibonacci(n-1) + Fibonacci(n-2)\n",
    "\n",
    "print(Fibonacci())"
   ]
  },
  {
   "cell_type": "code",
   "execution_count": 5,
   "id": "8dd4122a",
   "metadata": {},
   "outputs": [
    {
     "name": "stdout",
     "output_type": "stream",
     "text": [
      "Enter the marks:65\n",
      "D Grade 65\n"
     ]
    }
   ],
   "source": [
    "#Task 4\n",
    "\n",
    "marks = int(input('Enter the marks:'))\n",
    "\n",
    "if marks<0 or marks>100:\n",
    "    print(\"Invalid marks\")\n",
    "else:\n",
    "    if marks<50:\n",
    "        print(\"F Grade\" ,marks)\n",
    "    elif marks>50 and marks<60:\n",
    "        print(\"E Grade\",marks)\n",
    "    elif marks>61 and marks<70:\n",
    "        print(\"D Grade\",marks)\n",
    "    elif marks>71 and marks<80:\n",
    "        print(\"C Grade\",marks)\n",
    "    elif marks>81 and marks<90:\n",
    "        print(\"B Grade\" , marks)\n",
    "    else:\n",
    "        print(\"A Grade\")"
   ]
  },
  {
   "cell_type": "code",
   "execution_count": 17,
   "id": "94944f91",
   "metadata": {},
   "outputs": [
    {
     "name": "stdout",
     "output_type": "stream",
     "text": [
      "Enter a number5\n",
      "Factorial of 5 is 120\n"
     ]
    }
   ],
   "source": [
    "#Task 5\n",
    "def factorial(n):\n",
    "    \n",
    "    if (n==1 or n==0): \n",
    "        return 1 \n",
    "    else:\n",
    "        return n * factorial(n - 1)\n",
    "\n",
    "num = int(input(\"Enter a number\"));\n",
    "print(\"Factorial of\",num,\"is\",\n",
    "factorial(num))"
   ]
  },
  {
   "cell_type": "code",
   "execution_count": null,
   "id": "d3e7faa8",
   "metadata": {},
   "outputs": [],
   "source": []
  }
 ],
 "metadata": {
  "kernelspec": {
   "display_name": "Python 3 (ipykernel)",
   "language": "python",
   "name": "python3"
  },
  "language_info": {
   "codemirror_mode": {
    "name": "ipython",
    "version": 3
   },
   "file_extension": ".py",
   "mimetype": "text/x-python",
   "name": "python",
   "nbconvert_exporter": "python",
   "pygments_lexer": "ipython3",
   "version": "3.9.12"
  }
 },
 "nbformat": 4,
 "nbformat_minor": 5
}
