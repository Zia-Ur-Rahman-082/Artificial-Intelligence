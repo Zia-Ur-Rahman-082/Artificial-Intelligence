{
 "cells": [
  {
   "cell_type": "code",
   "execution_count": 9,
   "id": "a3d6e12d",
   "metadata": {},
   "outputs": [
    {
     "name": "stdout",
     "output_type": "stream",
     "text": [
      "['D', 'B', 'A', 'C', 'F']\n"
     ]
    }
   ],
   "source": [
    "#Activity 1\n",
    "class Node:\n",
    "    def __init__(self, state, parent, actions, totalCost):\n",
    "        self.state = state\n",
    "        self.parent = parent\n",
    "        self.actions = actions\n",
    "        self.totalCost = totalCost\n",
    "\n",
    "\n",
    "def actionSequence(graph, initialState, goalState):\n",
    "    sol = [goalState]\n",
    "    currentParent = graph[goalState].parent\n",
    "    while currentParent!=None:\n",
    "        sol.append(currentParent)\n",
    "        currentParent = graph[currentParent].parent\n",
    "    sol.reverse()\n",
    "    return sol\n",
    "\n",
    "\n",
    "def BFS():\n",
    "    initialState = 'D'\n",
    "    goalState = 'F'\n",
    "    \n",
    "    graph = {'A' : Node('A', None, ['B', 'C', 'E'], None),\n",
    "         'B' : Node('B', None, ['A', 'D', 'E'], None),\n",
    "         'C' : Node('C', None, ['A', 'F', 'G'], None),\n",
    "         'D' : Node('D', None, ['B', 'E'], None),\n",
    "         'E' : Node('E', None, ['A', 'B', 'D'], None),\n",
    "         'F' : Node('F', None, ['C'], None),\n",
    "         'G' : Node('G', None, ['C'], None)\n",
    "        }\n",
    "    frontier = [initialState]\n",
    "    explored = []\n",
    "    \n",
    "    while len(frontier)!=0:\n",
    "        currentNode = frontier.pop(0)\n",
    "        explored.append(currentNode)\n",
    "        for child in graph[currentNode].actions:\n",
    "            if child not in frontier and child not in explored:\n",
    "                graph[child].parent = currentNode\n",
    "                if graph[child].state==goalState:\n",
    "                    return actionSequence(graph, initialState, goalState)\n",
    "                frontier.append(child)\n",
    "            \n",
    "sol = BFS()\n",
    "print(sol)\n"
   ]
  },
  {
   "cell_type": "code",
   "execution_count": 7,
   "id": "e4ae754a",
   "metadata": {},
   "outputs": [
    {
     "name": "stdout",
     "output_type": "stream",
     "text": [
      "Enter the initial Node: Sibui\n",
      "Enter the Destination Node: Pitesti\n",
      "\n",
      "Shortest Path Is:  ['Sibui', 'Riminica', 'Pitesti']\n"
     ]
    }
   ],
   "source": [
    "#Task 1\n",
    "class Node:\n",
    "    def __init__(self, state, parent, actions):\n",
    "        self.state = state\n",
    "        self.parent = parent\n",
    "        self.actions = actions\n",
    "\n",
    "def BFS():\n",
    "    startingNode = input(\"Enter the initial Node: \")\n",
    "    destinationNode = input(\"Enter the Destination Node: \")\n",
    "\n",
    "    graph = {'Oradea': Node('Oradea', None, ['Zerind' , 'Sibui']),\n",
    "                  'Zerind': Node('Zerind', None, ['Oradea' , 'Arad']),\n",
    "                  'Neamt': Node('Neamt', None, ['Iasi']),\n",
    "                  'Arad': Node('Arad', None, ['Zerind', 'Sibui' , 'Timisoara']),\n",
    "                  'Isai': Node('Isai', None, ['Neamt','Vaslui']),\n",
    "                  'Sibui': Node('Sibui', None, ['Oradea', 'Arad' , 'Fagaras' , 'Riminica']),\n",
    "                  'Fagaras': Node('Fagaras', None, ['Sibui', 'Bucharest']),\n",
    "                  'Vaslui': Node('Vaslui', None, ['Isai','Urziceni']),\n",
    "                  'Timisoara': Node('Timisoara', None, ['Arad','Lugoj']),\n",
    "                  'Riminica': Node('Riminica', None, ['Sibui','Pitesti','Craiova']),\n",
    "                  'Lugoj': Node('Lugoj', None, ['Timisoara','Mehadia']),\n",
    "                  'Pitesti': Node('Pitesti', None, ['Riminica','Craiova','Bucharest']),\n",
    "                  'Mehadia': Node('Mehadia', None, ['Lugoj','Drobeta']),\n",
    "                  'Bucharest': Node('Bucharest', None, ['Fagaras','Pitesti','Urziceni']),\n",
    "                  'Urziceni': Node('Urziceni', None, ['Bucharest','Hirsova','Vaslui']),\n",
    "                  'Hirsova': Node('Hirsova', None, ['Urziceni','Eforie']),\n",
    "                  'Drobeta': Node('Drobeta', None, ['Mehndia','Craiova']),\n",
    "                  'Craiova': Node('Craiova', None, ['Drobeta','Riminica','Pitesti']),\n",
    "                  'Giurgui': Node('Giurgui', None, ['Bucharest']),\n",
    "                  'Eforie': Node('Eforie', None, ['Hirsova'])}\n",
    "    queue = [startingNode]\n",
    "    visited = []\n",
    "    \n",
    "    while len(queue) != 0:\n",
    "        temp = queue.pop(0)\n",
    "        visited.append(temp)\n",
    "        \n",
    "        for child in graph[temp].actions:\n",
    "            if child not in queue and child not in visited:\n",
    "                graph[child].parent = temp\n",
    "                if graph[child].state == destinationNode:\n",
    "                    return roadMap(graph, startingNode ,destinationNode)\n",
    "                queue.append(child)\n",
    "                \n",
    "def roadMap(graph, startingNode, destinationNode):\n",
    "    temporary = [destinationNode]\n",
    "    parentCurrent = graph[destinationNode].parent\n",
    "    \n",
    "    while parentCurrent != None:\n",
    "        temporary.append(parentCurrent)\n",
    "        parentCurrent = graph[parentCurrent].parent\n",
    "    temporary.reverse()\n",
    "    return temporary\n",
    "\n",
    "sol = BFS()\n",
    "print()\n",
    "print(\"Shortest Path Is: \" , sol)"
   ]
  },
  {
   "cell_type": "code",
   "execution_count": 2,
   "id": "2a774b32",
   "metadata": {},
   "outputs": [],
   "source": [
    "# Task 2\n",
    "def solveMaze(maze):\n",
    "    R, C = len(maze), len(maze[0])\n",
    "\n",
    "    start = (0, 0)\n",
    "    for r in range(R):\n",
    "        for c in range(C):\n",
    "            if maze[r][c] == 'S':\n",
    "                start = (r, c)\n",
    "                break\n",
    "        else:\n",
    "            continue\n",
    "        break\n",
    "    else:\n",
    "        return None\n",
    "\n",
    "    queue = deque()\n",
    "    queue.appendleft((start[0], start[1], 0, [start[0] * C + start[1]]))\n",
    "    directions = [[0, 1], [0, -1], [1, 0], [-1, 0]]\n",
    "    visited = [[False] * C for _ in range(R)]\n",
    "\n",
    "    while len(queue) != 0:\n",
    "        coord = queue.pop()\n",
    "        visited[coord[0]][coord[1]] = True\n",
    "\n",
    "        if maze[coord[0]][coord[1]] == \"E\":\n",
    "            return coord[2], [[i//C, i%C] for i in coord[3]] # Return path length, boxes on path\n",
    "\n",
    "        for dir in directions:\n",
    "            nr, nc = coord[0] + dir[0], coord[1] + dir[1]\n",
    "            if (nr < 0 or nr >= R or nc < 0 or nc >= C or maze[nr][nc] == \"#\" or visited[nr][nc]): continue\n",
    "            queue.appendleft((nr, nc, coord[2] + 1, coord[3] + [nr * C + nc]))"
   ]
  },
  {
   "cell_type": "code",
   "execution_count": null,
   "id": "8d0d232b",
   "metadata": {},
   "outputs": [],
   "source": []
  },
  {
   "cell_type": "code",
   "execution_count": 5,
   "id": "dce73df6",
   "metadata": {},
   "outputs": [
    {
     "name": "stdout",
     "output_type": "stream",
     "text": [
      "BFS is: \n",
      "A, B, E, C, D, F, G, "
     ]
    }
   ],
   "source": [
    "#Activity 1\n",
    "graph = {'A':['B', 'E', 'C'],'B':[ 'A','D', 'E'],'C':['F', 'G'],'D':['B', 'E'],'E':['A','B','D'],'F':['C'],'G':['C']}\n",
    "visited = []\n",
    "queue=[]\n",
    "def BFS(visited, graph, nodes):\n",
    "    visited.append(nodes)\n",
    "    queue.append(nodes)\n",
    "    while queue:\n",
    "        a = queue.pop(0)\n",
    "        print(a, end=\", \")\n",
    "        for neighbour in graph[a]:\n",
    "            if neighbour not in visited:\n",
    "                visited.append(neighbour)\n",
    "                queue.append(neighbour)\n",
    "print(\"BFS is: \")\n",
    "BFS(visited, graph,'A')"
   ]
  },
  {
   "cell_type": "code",
   "execution_count": null,
   "id": "81295a93",
   "metadata": {},
   "outputs": [],
   "source": []
  }
 ],
 "metadata": {
  "kernelspec": {
   "display_name": "Python 3 (ipykernel)",
   "language": "python",
   "name": "python3"
  },
  "language_info": {
   "codemirror_mode": {
    "name": "ipython",
    "version": 3
   },
   "file_extension": ".py",
   "mimetype": "text/x-python",
   "name": "python",
   "nbconvert_exporter": "python",
   "pygments_lexer": "ipython3",
   "version": "3.9.12"
  }
 },
 "nbformat": 4,
 "nbformat_minor": 5
}
